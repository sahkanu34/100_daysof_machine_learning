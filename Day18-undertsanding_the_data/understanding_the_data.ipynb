{
 "cells": [
  {
   "cell_type": "markdown",
   "id": "ae6fd355-aa3d-42f0-ad76-b84e8eb02307",
   "metadata": {},
   "source": [
    "# Importing the libraries"
   ]
  },
  {
   "cell_type": "code",
   "execution_count": 3,
   "id": "2cfc727e-50f8-4d7e-8a25-bffd442883d2",
   "metadata": {},
   "outputs": [],
   "source": [
    "import pandas as pd"
   ]
  },
  {
   "cell_type": "code",
   "execution_count": 4,
   "id": "6992d4d4-b908-4e85-a17a-e8fec9db2152",
   "metadata": {},
   "outputs": [],
   "source": [
    "df = pd.read_csv('insurance_data.csv')"
   ]
  },
  {
   "cell_type": "markdown",
   "id": "56466f48-c3b3-40e2-a670-3ba0b1b9145b",
   "metadata": {},
   "source": [
    "# 1. How big is the data?"
   ]
  },
  {
   "cell_type": "code",
   "execution_count": 5,
   "id": "dd9195c4-5b62-4e1d-bf25-8ae604a0c699",
   "metadata": {},
   "outputs": [
    {
     "data": {
      "text/plain": [
       "(1340, 11)"
      ]
     },
     "execution_count": 5,
     "metadata": {},
     "output_type": "execute_result"
    }
   ],
   "source": [
    "df.shape"
   ]
  },
  {
   "cell_type": "markdown",
   "id": "23a84373-54d2-463a-9679-5b7dcfc23cee",
   "metadata": {},
   "source": [
    "# 2.How data looks like?"
   ]
  },
  {
   "cell_type": "code",
   "execution_count": 6,
   "id": "1e915a72-a628-4cbd-9427-a3f799e73687",
   "metadata": {},
   "outputs": [
    {
     "data": {
      "text/html": [
       "<div>\n",
       "<style scoped>\n",
       "    .dataframe tbody tr th:only-of-type {\n",
       "        vertical-align: middle;\n",
       "    }\n",
       "\n",
       "    .dataframe tbody tr th {\n",
       "        vertical-align: top;\n",
       "    }\n",
       "\n",
       "    .dataframe thead th {\n",
       "        text-align: right;\n",
       "    }\n",
       "</style>\n",
       "<table border=\"1\" class=\"dataframe\">\n",
       "  <thead>\n",
       "    <tr style=\"text-align: right;\">\n",
       "      <th></th>\n",
       "      <th>hoa</th>\n",
       "      <th>PatientID</th>\n",
       "      <th>age</th>\n",
       "      <th>gender</th>\n",
       "      <th>bmi</th>\n",
       "      <th>bloodpressure</th>\n",
       "      <th>diabetic</th>\n",
       "      <th>children</th>\n",
       "      <th>smoker</th>\n",
       "      <th>region</th>\n",
       "      <th>claim</th>\n",
       "    </tr>\n",
       "  </thead>\n",
       "  <tbody>\n",
       "    <tr>\n",
       "      <th>1095</th>\n",
       "      <td>1095</td>\n",
       "      <td>1096</td>\n",
       "      <td>38.0</td>\n",
       "      <td>female</td>\n",
       "      <td>25.3</td>\n",
       "      <td>104</td>\n",
       "      <td>Yes</td>\n",
       "      <td>1</td>\n",
       "      <td>Yes</td>\n",
       "      <td>northeast</td>\n",
       "      <td>21771.34</td>\n",
       "    </tr>\n",
       "    <tr>\n",
       "      <th>1201</th>\n",
       "      <td>1201</td>\n",
       "      <td>1202</td>\n",
       "      <td>45.0</td>\n",
       "      <td>male</td>\n",
       "      <td>33.5</td>\n",
       "      <td>81</td>\n",
       "      <td>No</td>\n",
       "      <td>0</td>\n",
       "      <td>Yes</td>\n",
       "      <td>northeast</td>\n",
       "      <td>34617.84</td>\n",
       "    </tr>\n",
       "    <tr>\n",
       "      <th>198</th>\n",
       "      <td>198</td>\n",
       "      <td>199</td>\n",
       "      <td>25.0</td>\n",
       "      <td>male</td>\n",
       "      <td>23.0</td>\n",
       "      <td>81</td>\n",
       "      <td>Yes</td>\n",
       "      <td>0</td>\n",
       "      <td>No</td>\n",
       "      <td>northeast</td>\n",
       "      <td>1704.57</td>\n",
       "    </tr>\n",
       "    <tr>\n",
       "      <th>969</th>\n",
       "      <td>969</td>\n",
       "      <td>970</td>\n",
       "      <td>31.0</td>\n",
       "      <td>male</td>\n",
       "      <td>39.2</td>\n",
       "      <td>91</td>\n",
       "      <td>No</td>\n",
       "      <td>1</td>\n",
       "      <td>No</td>\n",
       "      <td>southeast</td>\n",
       "      <td>14418.28</td>\n",
       "    </tr>\n",
       "    <tr>\n",
       "      <th>599</th>\n",
       "      <td>599</td>\n",
       "      <td>600</td>\n",
       "      <td>34.0</td>\n",
       "      <td>male</td>\n",
       "      <td>39.4</td>\n",
       "      <td>94</td>\n",
       "      <td>Yes</td>\n",
       "      <td>1</td>\n",
       "      <td>No</td>\n",
       "      <td>northeast</td>\n",
       "      <td>8342.91</td>\n",
       "    </tr>\n",
       "  </tbody>\n",
       "</table>\n",
       "</div>"
      ],
      "text/plain": [
       "       hoa  PatientID   age  gender   bmi  bloodpressure diabetic  children  \\\n",
       "1095  1095       1096  38.0  female  25.3            104      Yes         1   \n",
       "1201  1201       1202  45.0    male  33.5             81       No         0   \n",
       "198    198        199  25.0    male  23.0             81      Yes         0   \n",
       "969    969        970  31.0    male  39.2             91       No         1   \n",
       "599    599        600  34.0    male  39.4             94      Yes         1   \n",
       "\n",
       "     smoker     region     claim  \n",
       "1095    Yes  northeast  21771.34  \n",
       "1201    Yes  northeast  34617.84  \n",
       "198      No  northeast   1704.57  \n",
       "969      No  southeast  14418.28  \n",
       "599      No  northeast   8342.91  "
      ]
     },
     "execution_count": 6,
     "metadata": {},
     "output_type": "execute_result"
    }
   ],
   "source": [
    "df.sample(5)"
   ]
  },
  {
   "cell_type": "markdown",
   "id": "9f652a98-5e2f-499d-8411-d06322c0233f",
   "metadata": {},
   "source": [
    "# 3. What is the data type of cols?"
   ]
  },
  {
   "cell_type": "code",
   "execution_count": 7,
   "id": "0b10e27b-2416-492d-ad5c-2437d7e661a0",
   "metadata": {},
   "outputs": [
    {
     "name": "stdout",
     "output_type": "stream",
     "text": [
      "<class 'pandas.core.frame.DataFrame'>\n",
      "RangeIndex: 1340 entries, 0 to 1339\n",
      "Data columns (total 11 columns):\n",
      " #   Column         Non-Null Count  Dtype  \n",
      "---  ------         --------------  -----  \n",
      " 0   hoa            1340 non-null   int64  \n",
      " 1   PatientID      1340 non-null   int64  \n",
      " 2   age            1335 non-null   float64\n",
      " 3   gender         1340 non-null   object \n",
      " 4   bmi            1340 non-null   float64\n",
      " 5   bloodpressure  1340 non-null   int64  \n",
      " 6   diabetic       1340 non-null   object \n",
      " 7   children       1340 non-null   int64  \n",
      " 8   smoker         1340 non-null   object \n",
      " 9   region         1337 non-null   object \n",
      " 10  claim          1340 non-null   float64\n",
      "dtypes: float64(3), int64(4), object(4)\n",
      "memory usage: 115.3+ KB\n"
     ]
    }
   ],
   "source": [
    "df.info()"
   ]
  },
  {
   "cell_type": "code",
   "execution_count": 8,
   "id": "025529b3-6da7-4888-ae1c-071272e1c896",
   "metadata": {},
   "outputs": [
    {
     "data": {
      "text/plain": [
       "hoa              0\n",
       "PatientID        0\n",
       "age              5\n",
       "gender           0\n",
       "bmi              0\n",
       "bloodpressure    0\n",
       "diabetic         0\n",
       "children         0\n",
       "smoker           0\n",
       "region           3\n",
       "claim            0\n",
       "dtype: int64"
      ]
     },
     "execution_count": 8,
     "metadata": {},
     "output_type": "execute_result"
    }
   ],
   "source": [
    "df.isna().sum()"
   ]
  },
  {
   "cell_type": "markdown",
   "id": "31ed620f-dbd2-4fce-8f2a-2ad682f91646",
   "metadata": {},
   "source": [
    "# 4 . How does the data looks mathematically"
   ]
  },
  {
   "cell_type": "code",
   "execution_count": 9,
   "id": "86625072-01e5-4ba2-a77c-a23e31b09e1e",
   "metadata": {},
   "outputs": [
    {
     "data": {
      "text/html": [
       "<div>\n",
       "<style scoped>\n",
       "    .dataframe tbody tr th:only-of-type {\n",
       "        vertical-align: middle;\n",
       "    }\n",
       "\n",
       "    .dataframe tbody tr th {\n",
       "        vertical-align: top;\n",
       "    }\n",
       "\n",
       "    .dataframe thead th {\n",
       "        text-align: right;\n",
       "    }\n",
       "</style>\n",
       "<table border=\"1\" class=\"dataframe\">\n",
       "  <thead>\n",
       "    <tr style=\"text-align: right;\">\n",
       "      <th></th>\n",
       "      <th>hoa</th>\n",
       "      <th>PatientID</th>\n",
       "      <th>age</th>\n",
       "      <th>bmi</th>\n",
       "      <th>bloodpressure</th>\n",
       "      <th>children</th>\n",
       "      <th>claim</th>\n",
       "    </tr>\n",
       "  </thead>\n",
       "  <tbody>\n",
       "    <tr>\n",
       "      <th>count</th>\n",
       "      <td>1340.000000</td>\n",
       "      <td>1340.000000</td>\n",
       "      <td>1335.000000</td>\n",
       "      <td>1340.000000</td>\n",
       "      <td>1340.000000</td>\n",
       "      <td>1340.000000</td>\n",
       "      <td>1340.000000</td>\n",
       "    </tr>\n",
       "    <tr>\n",
       "      <th>mean</th>\n",
       "      <td>669.500000</td>\n",
       "      <td>670.500000</td>\n",
       "      <td>38.078652</td>\n",
       "      <td>30.668955</td>\n",
       "      <td>94.157463</td>\n",
       "      <td>1.093284</td>\n",
       "      <td>13252.745642</td>\n",
       "    </tr>\n",
       "    <tr>\n",
       "      <th>std</th>\n",
       "      <td>386.968991</td>\n",
       "      <td>386.968991</td>\n",
       "      <td>11.102924</td>\n",
       "      <td>6.106735</td>\n",
       "      <td>11.434712</td>\n",
       "      <td>1.205334</td>\n",
       "      <td>12109.609288</td>\n",
       "    </tr>\n",
       "    <tr>\n",
       "      <th>min</th>\n",
       "      <td>0.000000</td>\n",
       "      <td>1.000000</td>\n",
       "      <td>18.000000</td>\n",
       "      <td>16.000000</td>\n",
       "      <td>80.000000</td>\n",
       "      <td>0.000000</td>\n",
       "      <td>1121.870000</td>\n",
       "    </tr>\n",
       "    <tr>\n",
       "      <th>25%</th>\n",
       "      <td>334.750000</td>\n",
       "      <td>335.750000</td>\n",
       "      <td>29.000000</td>\n",
       "      <td>26.275000</td>\n",
       "      <td>86.000000</td>\n",
       "      <td>0.000000</td>\n",
       "      <td>4719.685000</td>\n",
       "    </tr>\n",
       "    <tr>\n",
       "      <th>50%</th>\n",
       "      <td>669.500000</td>\n",
       "      <td>670.500000</td>\n",
       "      <td>38.000000</td>\n",
       "      <td>30.400000</td>\n",
       "      <td>92.000000</td>\n",
       "      <td>1.000000</td>\n",
       "      <td>9369.615000</td>\n",
       "    </tr>\n",
       "    <tr>\n",
       "      <th>75%</th>\n",
       "      <td>1004.250000</td>\n",
       "      <td>1005.250000</td>\n",
       "      <td>47.000000</td>\n",
       "      <td>34.700000</td>\n",
       "      <td>99.000000</td>\n",
       "      <td>2.000000</td>\n",
       "      <td>16604.305000</td>\n",
       "    </tr>\n",
       "    <tr>\n",
       "      <th>max</th>\n",
       "      <td>1339.000000</td>\n",
       "      <td>1340.000000</td>\n",
       "      <td>60.000000</td>\n",
       "      <td>53.100000</td>\n",
       "      <td>140.000000</td>\n",
       "      <td>5.000000</td>\n",
       "      <td>63770.430000</td>\n",
       "    </tr>\n",
       "  </tbody>\n",
       "</table>\n",
       "</div>"
      ],
      "text/plain": [
       "               hoa    PatientID          age          bmi  bloodpressure  \\\n",
       "count  1340.000000  1340.000000  1335.000000  1340.000000    1340.000000   \n",
       "mean    669.500000   670.500000    38.078652    30.668955      94.157463   \n",
       "std     386.968991   386.968991    11.102924     6.106735      11.434712   \n",
       "min       0.000000     1.000000    18.000000    16.000000      80.000000   \n",
       "25%     334.750000   335.750000    29.000000    26.275000      86.000000   \n",
       "50%     669.500000   670.500000    38.000000    30.400000      92.000000   \n",
       "75%    1004.250000  1005.250000    47.000000    34.700000      99.000000   \n",
       "max    1339.000000  1340.000000    60.000000    53.100000     140.000000   \n",
       "\n",
       "          children         claim  \n",
       "count  1340.000000   1340.000000  \n",
       "mean      1.093284  13252.745642  \n",
       "std       1.205334  12109.609288  \n",
       "min       0.000000   1121.870000  \n",
       "25%       0.000000   4719.685000  \n",
       "50%       1.000000   9369.615000  \n",
       "75%       2.000000  16604.305000  \n",
       "max       5.000000  63770.430000  "
      ]
     },
     "execution_count": 9,
     "metadata": {},
     "output_type": "execute_result"
    }
   ],
   "source": [
    "df.describe()"
   ]
  },
  {
   "cell_type": "markdown",
   "id": "1ea5293f-fff5-4003-88c0-982ed5896640",
   "metadata": {},
   "source": [
    "# 5. Are there duplicates value?"
   ]
  },
  {
   "cell_type": "code",
   "execution_count": 10,
   "id": "c3d78cf6-3bbf-4b84-a86c-2083a1197d27",
   "metadata": {},
   "outputs": [
    {
     "data": {
      "text/plain": [
       "np.int64(0)"
      ]
     },
     "execution_count": 10,
     "metadata": {},
     "output_type": "execute_result"
    }
   ],
   "source": [
    "df.duplicated().sum()"
   ]
  },
  {
   "cell_type": "markdown",
   "id": "1846cd63-3371-447b-bb82-eb44297e804a",
   "metadata": {},
   "source": [
    "# 6. what's the coorelation between cols?"
   ]
  },
  {
   "cell_type": "code",
   "execution_count": 11,
   "id": "52091e6c-1c70-4041-8313-56e8db051b68",
   "metadata": {},
   "outputs": [
    {
     "data": {
      "text/html": [
       "<div>\n",
       "<style scoped>\n",
       "    .dataframe tbody tr th:only-of-type {\n",
       "        vertical-align: middle;\n",
       "    }\n",
       "\n",
       "    .dataframe tbody tr th {\n",
       "        vertical-align: top;\n",
       "    }\n",
       "\n",
       "    .dataframe thead th {\n",
       "        text-align: right;\n",
       "    }\n",
       "</style>\n",
       "<table border=\"1\" class=\"dataframe\">\n",
       "  <thead>\n",
       "    <tr style=\"text-align: right;\">\n",
       "      <th></th>\n",
       "      <th>hoa</th>\n",
       "      <th>PatientID</th>\n",
       "      <th>age</th>\n",
       "      <th>bmi</th>\n",
       "      <th>bloodpressure</th>\n",
       "      <th>children</th>\n",
       "      <th>claim</th>\n",
       "    </tr>\n",
       "  </thead>\n",
       "  <tbody>\n",
       "    <tr>\n",
       "      <th>hoa</th>\n",
       "      <td>1.000000</td>\n",
       "      <td>1.000000</td>\n",
       "      <td>-0.007492</td>\n",
       "      <td>0.115129</td>\n",
       "      <td>0.450602</td>\n",
       "      <td>0.128104</td>\n",
       "      <td>0.879268</td>\n",
       "    </tr>\n",
       "    <tr>\n",
       "      <th>PatientID</th>\n",
       "      <td>1.000000</td>\n",
       "      <td>1.000000</td>\n",
       "      <td>-0.007492</td>\n",
       "      <td>0.115129</td>\n",
       "      <td>0.450602</td>\n",
       "      <td>0.128104</td>\n",
       "      <td>0.879268</td>\n",
       "    </tr>\n",
       "    <tr>\n",
       "      <th>age</th>\n",
       "      <td>-0.007492</td>\n",
       "      <td>-0.007492</td>\n",
       "      <td>1.000000</td>\n",
       "      <td>-0.041955</td>\n",
       "      <td>-0.060325</td>\n",
       "      <td>-0.025547</td>\n",
       "      <td>-0.027909</td>\n",
       "    </tr>\n",
       "    <tr>\n",
       "      <th>bmi</th>\n",
       "      <td>0.115129</td>\n",
       "      <td>0.115129</td>\n",
       "      <td>-0.041955</td>\n",
       "      <td>1.000000</td>\n",
       "      <td>0.143544</td>\n",
       "      <td>0.012092</td>\n",
       "      <td>0.197401</td>\n",
       "    </tr>\n",
       "    <tr>\n",
       "      <th>bloodpressure</th>\n",
       "      <td>0.450602</td>\n",
       "      <td>0.450602</td>\n",
       "      <td>-0.060325</td>\n",
       "      <td>0.143544</td>\n",
       "      <td>1.000000</td>\n",
       "      <td>-0.031682</td>\n",
       "      <td>0.531341</td>\n",
       "    </tr>\n",
       "    <tr>\n",
       "      <th>children</th>\n",
       "      <td>0.128104</td>\n",
       "      <td>0.128104</td>\n",
       "      <td>-0.025547</td>\n",
       "      <td>0.012092</td>\n",
       "      <td>-0.031682</td>\n",
       "      <td>1.000000</td>\n",
       "      <td>0.069233</td>\n",
       "    </tr>\n",
       "    <tr>\n",
       "      <th>claim</th>\n",
       "      <td>0.879268</td>\n",
       "      <td>0.879268</td>\n",
       "      <td>-0.027909</td>\n",
       "      <td>0.197401</td>\n",
       "      <td>0.531341</td>\n",
       "      <td>0.069233</td>\n",
       "      <td>1.000000</td>\n",
       "    </tr>\n",
       "  </tbody>\n",
       "</table>\n",
       "</div>"
      ],
      "text/plain": [
       "                    hoa  PatientID       age       bmi  bloodpressure  \\\n",
       "hoa            1.000000   1.000000 -0.007492  0.115129       0.450602   \n",
       "PatientID      1.000000   1.000000 -0.007492  0.115129       0.450602   \n",
       "age           -0.007492  -0.007492  1.000000 -0.041955      -0.060325   \n",
       "bmi            0.115129   0.115129 -0.041955  1.000000       0.143544   \n",
       "bloodpressure  0.450602   0.450602 -0.060325  0.143544       1.000000   \n",
       "children       0.128104   0.128104 -0.025547  0.012092      -0.031682   \n",
       "claim          0.879268   0.879268 -0.027909  0.197401       0.531341   \n",
       "\n",
       "               children     claim  \n",
       "hoa            0.128104  0.879268  \n",
       "PatientID      0.128104  0.879268  \n",
       "age           -0.025547 -0.027909  \n",
       "bmi            0.012092  0.197401  \n",
       "bloodpressure -0.031682  0.531341  \n",
       "children       1.000000  0.069233  \n",
       "claim          0.069233  1.000000  "
      ]
     },
     "execution_count": 11,
     "metadata": {},
     "output_type": "execute_result"
    }
   ],
   "source": [
    "num_col = df.select_dtypes(include=['float64','int64'])\n",
    "num_col.corr()"
   ]
  },
  {
   "cell_type": "code",
   "execution_count": 12,
   "id": "e1455950-b31a-45ab-9584-4ee131c22b7e",
   "metadata": {},
   "outputs": [
    {
     "data": {
      "text/plain": [
       "dtype('float64')"
      ]
     },
     "execution_count": 12,
     "metadata": {},
     "output_type": "execute_result"
    }
   ],
   "source": [
    "df['claim'].dtype"
   ]
  },
  {
   "cell_type": "code",
   "execution_count": 13,
   "id": "8946cefe-de56-48e3-9a11-c07f5343a4b3",
   "metadata": {},
   "outputs": [
    {
     "data": {
      "text/html": [
       "<div>\n",
       "<style scoped>\n",
       "    .dataframe tbody tr th:only-of-type {\n",
       "        vertical-align: middle;\n",
       "    }\n",
       "\n",
       "    .dataframe tbody tr th {\n",
       "        vertical-align: top;\n",
       "    }\n",
       "\n",
       "    .dataframe thead th {\n",
       "        text-align: right;\n",
       "    }\n",
       "</style>\n",
       "<table border=\"1\" class=\"dataframe\">\n",
       "  <thead>\n",
       "    <tr style=\"text-align: right;\">\n",
       "      <th></th>\n",
       "      <th>hoa</th>\n",
       "      <th>PatientID</th>\n",
       "      <th>age</th>\n",
       "      <th>bmi</th>\n",
       "      <th>bloodpressure</th>\n",
       "      <th>children</th>\n",
       "      <th>claim</th>\n",
       "    </tr>\n",
       "  </thead>\n",
       "  <tbody>\n",
       "    <tr>\n",
       "      <th>hoa</th>\n",
       "      <td>1.000000</td>\n",
       "      <td>1.000000</td>\n",
       "      <td>-0.007492</td>\n",
       "      <td>0.115129</td>\n",
       "      <td>0.450602</td>\n",
       "      <td>0.128104</td>\n",
       "      <td>0.879268</td>\n",
       "    </tr>\n",
       "    <tr>\n",
       "      <th>PatientID</th>\n",
       "      <td>1.000000</td>\n",
       "      <td>1.000000</td>\n",
       "      <td>-0.007492</td>\n",
       "      <td>0.115129</td>\n",
       "      <td>0.450602</td>\n",
       "      <td>0.128104</td>\n",
       "      <td>0.879268</td>\n",
       "    </tr>\n",
       "    <tr>\n",
       "      <th>age</th>\n",
       "      <td>-0.007492</td>\n",
       "      <td>-0.007492</td>\n",
       "      <td>1.000000</td>\n",
       "      <td>-0.041955</td>\n",
       "      <td>-0.060325</td>\n",
       "      <td>-0.025547</td>\n",
       "      <td>-0.027909</td>\n",
       "    </tr>\n",
       "    <tr>\n",
       "      <th>bmi</th>\n",
       "      <td>0.115129</td>\n",
       "      <td>0.115129</td>\n",
       "      <td>-0.041955</td>\n",
       "      <td>1.000000</td>\n",
       "      <td>0.143544</td>\n",
       "      <td>0.012092</td>\n",
       "      <td>0.197401</td>\n",
       "    </tr>\n",
       "    <tr>\n",
       "      <th>bloodpressure</th>\n",
       "      <td>0.450602</td>\n",
       "      <td>0.450602</td>\n",
       "      <td>-0.060325</td>\n",
       "      <td>0.143544</td>\n",
       "      <td>1.000000</td>\n",
       "      <td>-0.031682</td>\n",
       "      <td>0.531341</td>\n",
       "    </tr>\n",
       "  </tbody>\n",
       "</table>\n",
       "</div>"
      ],
      "text/plain": [
       "                    hoa  PatientID       age       bmi  bloodpressure  \\\n",
       "hoa            1.000000   1.000000 -0.007492  0.115129       0.450602   \n",
       "PatientID      1.000000   1.000000 -0.007492  0.115129       0.450602   \n",
       "age           -0.007492  -0.007492  1.000000 -0.041955      -0.060325   \n",
       "bmi            0.115129   0.115129 -0.041955  1.000000       0.143544   \n",
       "bloodpressure  0.450602   0.450602 -0.060325  0.143544       1.000000   \n",
       "\n",
       "               children     claim  \n",
       "hoa            0.128104  0.879268  \n",
       "PatientID      0.128104  0.879268  \n",
       "age           -0.025547 -0.027909  \n",
       "bmi            0.012092  0.197401  \n",
       "bloodpressure -0.031682  0.531341  "
      ]
     },
     "execution_count": 13,
     "metadata": {},
     "output_type": "execute_result"
    }
   ],
   "source": [
    "num_col.corr().head()"
   ]
  },
  {
   "cell_type": "code",
   "execution_count": 14,
   "id": "7f614a15-e718-4374-aca6-8880167a3b75",
   "metadata": {},
   "outputs": [
    {
     "data": {
      "text/html": [
       "<div>\n",
       "<style scoped>\n",
       "    .dataframe tbody tr th:only-of-type {\n",
       "        vertical-align: middle;\n",
       "    }\n",
       "\n",
       "    .dataframe tbody tr th {\n",
       "        vertical-align: top;\n",
       "    }\n",
       "\n",
       "    .dataframe thead th {\n",
       "        text-align: right;\n",
       "    }\n",
       "</style>\n",
       "<table border=\"1\" class=\"dataframe\">\n",
       "  <thead>\n",
       "    <tr style=\"text-align: right;\">\n",
       "      <th></th>\n",
       "      <th>age</th>\n",
       "      <th>bloodpressure</th>\n",
       "      <th>claim</th>\n",
       "    </tr>\n",
       "  </thead>\n",
       "  <tbody>\n",
       "    <tr>\n",
       "      <th>hoa</th>\n",
       "      <td>-0.007492</td>\n",
       "      <td>0.450602</td>\n",
       "      <td>0.879268</td>\n",
       "    </tr>\n",
       "    <tr>\n",
       "      <th>PatientID</th>\n",
       "      <td>-0.007492</td>\n",
       "      <td>0.450602</td>\n",
       "      <td>0.879268</td>\n",
       "    </tr>\n",
       "    <tr>\n",
       "      <th>age</th>\n",
       "      <td>1.000000</td>\n",
       "      <td>-0.060325</td>\n",
       "      <td>-0.027909</td>\n",
       "    </tr>\n",
       "    <tr>\n",
       "      <th>bmi</th>\n",
       "      <td>-0.041955</td>\n",
       "      <td>0.143544</td>\n",
       "      <td>0.197401</td>\n",
       "    </tr>\n",
       "    <tr>\n",
       "      <th>bloodpressure</th>\n",
       "      <td>-0.060325</td>\n",
       "      <td>1.000000</td>\n",
       "      <td>0.531341</td>\n",
       "    </tr>\n",
       "    <tr>\n",
       "      <th>children</th>\n",
       "      <td>-0.025547</td>\n",
       "      <td>-0.031682</td>\n",
       "      <td>0.069233</td>\n",
       "    </tr>\n",
       "    <tr>\n",
       "      <th>claim</th>\n",
       "      <td>-0.027909</td>\n",
       "      <td>0.531341</td>\n",
       "      <td>1.000000</td>\n",
       "    </tr>\n",
       "  </tbody>\n",
       "</table>\n",
       "</div>"
      ],
      "text/plain": [
       "                    age  bloodpressure     claim\n",
       "hoa           -0.007492       0.450602  0.879268\n",
       "PatientID     -0.007492       0.450602  0.879268\n",
       "age            1.000000      -0.060325 -0.027909\n",
       "bmi           -0.041955       0.143544  0.197401\n",
       "bloodpressure -0.060325       1.000000  0.531341\n",
       "children      -0.025547      -0.031682  0.069233\n",
       "claim         -0.027909       0.531341  1.000000"
      ]
     },
     "execution_count": 14,
     "metadata": {},
     "output_type": "execute_result"
    }
   ],
   "source": [
    "num_col.corr()[['age','bloodpressure','claim']]"
   ]
  },
  {
   "cell_type": "code",
   "execution_count": 15,
   "id": "85338160-d6b0-40d7-becc-0e505af0976f",
   "metadata": {},
   "outputs": [
    {
     "data": {
      "text/plain": [
       "claim            1.000000\n",
       "PatientID        0.879268\n",
       "hoa              0.879268\n",
       "bloodpressure    0.531341\n",
       "bmi              0.197401\n",
       "children         0.069233\n",
       "age             -0.027909\n",
       "Name: claim, dtype: float64"
      ]
     },
     "execution_count": 15,
     "metadata": {},
     "output_type": "execute_result"
    }
   ],
   "source": [
    "num_col.corr()['claim'].sort_values(ascending=False)"
   ]
  },
  {
   "cell_type": "code",
   "execution_count": null,
   "id": "22ad09be",
   "metadata": {},
   "outputs": [
    {
     "data": {
      "text/plain": [
       "claim\n",
       "1121.87     1\n",
       "1131.51     1\n",
       "1135.94     1\n",
       "1136.40     1\n",
       "1137.01     1\n",
       "           ..\n",
       "55135.40    1\n",
       "58571.07    1\n",
       "60021.40    1\n",
       "62592.87    1\n",
       "63770.43    1\n",
       "Name: count, Length: 1337, dtype: int64"
      ]
     },
     "execution_count": 19,
     "metadata": {},
     "output_type": "execute_result"
    }
   ],
   "source": []
  },
  {
   "cell_type": "code",
   "execution_count": null,
   "id": "a542ef32",
   "metadata": {},
   "outputs": [],
   "source": []
  }
 ],
 "metadata": {
  "kernelspec": {
   "display_name": "Python 3",
   "language": "python",
   "name": "python3"
  },
  "language_info": {
   "codemirror_mode": {
    "name": "ipython",
    "version": 3
   },
   "file_extension": ".py",
   "mimetype": "text/x-python",
   "name": "python",
   "nbconvert_exporter": "python",
   "pygments_lexer": "ipython3",
   "version": "3.12.6"
  }
 },
 "nbformat": 4,
 "nbformat_minor": 5
}
